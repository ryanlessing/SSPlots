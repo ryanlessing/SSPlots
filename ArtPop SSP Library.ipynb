{
 "cells": [
  {
   "cell_type": "markdown",
   "source": [
    "In order to run this notebook, the following libaries must be installed ... NumPy, Matplotlib, Scipy, Astropy, ArtPop, and Tqdm"
   ],
   "metadata": {
    "collapsed": false,
    "pycharm": {
     "name": "#%% md\n"
    }
   }
  },
  {
   "cell_type": "markdown",
   "source": [
    "# ArtPop SSP Library\n",
    "Using ArtPop simple stellar populations (SSPs), this notebook produces a library of SSPs with desired mass, age, and metallicity parameters using MIST isochrones. The usage of Padova isochrones is currently in progress."
   ],
   "metadata": {
    "collapsed": false,
    "pycharm": {
     "name": "#%% md\n"
    }
   }
  },
  {
   "cell_type": "markdown",
   "source": [
    "First, importing our needed libraries:"
   ],
   "metadata": {
    "collapsed": false,
    "pycharm": {
     "name": "#%% md\n"
    }
   }
  },
  {
   "cell_type": "code",
   "execution_count": null,
   "outputs": [],
   "source": [
    "import numpy as np\n",
    "import matplotlib.pyplot as plt\n",
    "from astropy import units as u\n",
    "import artpop\n",
    "from artpop import MISTSSP\n",
    "from astropy.io import fits\n",
    "from tqdm.notebook import trange, tqdm\n",
    "from time import sleep\n",
    "import pickle\n",
    "\n",
    "# Random state for reproducibility\n",
    "rng = np.random.RandomState(100)"
   ],
   "metadata": {
    "collapsed": false,
    "pycharm": {
     "name": "#%%\n"
    }
   }
  },
  {
   "cell_type": "markdown",
   "source": [
    "Next, set the below min/max variables to your desired age, mass, and metallicity ranges."
   ],
   "metadata": {
    "collapsed": false,
    "pycharm": {
     "name": "#%% md\n"
    }
   }
  },
  {
   "cell_type": "code",
   "execution_count": null,
   "outputs": [],
   "source": [
    "age_max = 7; age_min = 6.5      # log[age]\n",
    "mass_max = 4; mass_min = 3.5    # log[mass]\n",
    "feh_max = 0.3; feh_min = -0.3\n",
    "n = 1000\n",
    "\n",
    "ages = np.random.uniform(age_min, age_max, n)\n",
    "masses = np.random.uniform(mass_min, mass_max, n)\n",
    "fehs = np.random.uniform(feh_min, feh_max, n)"
   ],
   "metadata": {
    "collapsed": false,
    "pycharm": {
     "name": "#%%\n"
    }
   }
  },
  {
   "cell_type": "markdown",
   "source": [
    "And that's it! Run the following code to produce your SSP library. You can customize the following variables:\n",
    "- num_clusters: The number of SSPs that you'd like to generate.\n",
    "- phot_system: Your desired photometric system. The list of possible photometric systems can be found by printing \"artpop.filters.phot_system_list\" ... the output is here:\n",
    "    - 'HST_WFC3', 'HST_ACSWF', 'SDSSugriz', 'CFHTugriz', 'DECam', 'HSC', 'JWST', 'LSST', 'UBVRIplus', 'UKIDSS', 'WFIRST', 'GALEX'"
   ],
   "metadata": {
    "collapsed": false,
    "pycharm": {
     "name": "#%% md\n"
    }
   }
  },
  {
   "cell_type": "code",
   "execution_count": null,
   "outputs": [],
   "source": [
    "ssp_list = []\n",
    "num_clusters = 1000\n",
    "\n",
    "for i in trange(num_clusters):\n",
    "\n",
    "    ssp = artpop.MISTSSP(\n",
    "        log_age = ages[i],           # log of age in years\n",
    "        feh = fehs[i],               # metallicity [Fe/H]\n",
    "        phot_system = 'HST_WFC3',    # photometric system(s)\n",
    "        total_mass = 10**masses[i],  # number of stars *or* total mass\n",
    "        imf = 'kroupa',              # default imf\n",
    "        random_state = rng,          # random state for reproducibility\n",
    "        #mist_path = ''               # pathway to MIST isochrones\n",
    "    )\n",
    "\n",
    "    ssp_list.append(ssp)"
   ],
   "metadata": {
    "collapsed": false,
    "pycharm": {
     "name": "#%%\n"
    }
   }
  },
  {
   "cell_type": "markdown",
   "source": [
    "To save the SSP libary, run the following code. Set your destination folder under the \"dir\" variable but leave the \"fn\" variable as is, so that the files can be easily read using the **ArtPop Interactive CCDs** notebook."
   ],
   "metadata": {
    "collapsed": false,
    "pycharm": {
     "name": "#%% md\n"
    }
   }
  },
  {
   "cell_type": "code",
   "execution_count": null,
   "outputs": [],
   "source": [
    "for i in trange(num_clusters):\n",
    "    dir = ''\n",
    "    fn = dir + '/MISTSSP' + str(i+1) + '.pickle'\n",
    "    ssp_list[i].to_pickle(fn)"
   ],
   "metadata": {
    "collapsed": false,
    "pycharm": {
     "name": "#%%\n"
    }
   }
  }
 ],
 "metadata": {
  "kernelspec": {
   "name": "conda-env-artpop-py",
   "language": "python",
   "display_name": "Python [conda env:artpop]"
  },
  "language_info": {
   "codemirror_mode": {
    "name": "ipython",
    "version": 2
   },
   "file_extension": ".py",
   "mimetype": "text/x-python",
   "name": "python",
   "nbconvert_exporter": "python",
   "pygments_lexer": "ipython2",
   "version": "2.7.6"
  }
 },
 "nbformat": 4,
 "nbformat_minor": 0
}