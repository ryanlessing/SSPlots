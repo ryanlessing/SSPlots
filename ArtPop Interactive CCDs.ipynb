{
 "cells": [
  {
   "cell_type": "markdown",
   "source": [
    "In order to run this notebook, the following libaries must be installed:\n",
    "... NumPy, Matplotlib, Scipy, Astropy, ArtPop, and Tqdm"
   ],
   "metadata": {
    "collapsed": false,
    "pycharm": {
     "name": "#%% md\n"
    }
   }
  },
  {
   "cell_type": "markdown",
   "source": [
    "# Interactive Color-Color Diagrams\n",
    "Using ArtPop simple stellar populations (SSPs), this notebook produces an interactive color-color diagram for a set of SSPs. Points on the CCDs represent individual stellar populations, and can be clicked to reveal a plot of the selected population's color-magnitude diagram."
   ],
   "metadata": {
    "collapsed": false,
    "pycharm": {
     "name": "#%% md\n"
    }
   }
  },
  {
   "cell_type": "markdown",
   "source": [
    "First, importing our needed libraries:"
   ],
   "metadata": {
    "collapsed": false,
    "pycharm": {
     "name": "#%% md\n"
    }
   }
  },
  {
   "cell_type": "code",
   "execution_count": null,
   "outputs": [],
   "source": [
    "# Libraries\n",
    "import numpy as np\n",
    "import matplotlib.pyplot as plt\n",
    "from matplotlib.backend_bases import MouseButton\n",
    "import scipy.spatial\n",
    "from astropy import units as u\n",
    "from astropy.io import ascii\n",
    "from astropy.io import fits\n",
    "import artpop\n",
    "from artpop import MISTSSP\n",
    "from tqdm.notebook import trange, tqdm\n",
    "import pickle\n",
    "%matplotlib tk\n",
    "\n",
    "# Artpop's matplotlib style\n",
    "plt.style.use(artpop.mpl_style)\n",
    "\n",
    "# Random state for reproducibility\n",
    "rng = np.random.RandomState(100)"
   ],
   "metadata": {
    "collapsed": false,
    "pycharm": {
     "name": "#%%\n"
    }
   }
  },
  {
   "cell_type": "markdown",
   "source": [
    "Next, we define some helper functions:"
   ],
   "metadata": {
    "collapsed": false,
    "pycharm": {
     "name": "#%% md\n"
    }
   }
  },
  {
   "cell_type": "code",
   "execution_count": null,
   "outputs": [],
   "source": [
    "def from_pickle(file_name):\n",
    "    \"\"\"Load pickle of stellar population object.\"\"\"\n",
    "    pkl_file = open(file_name, 'rb')\n",
    "    data = pickle.load(pkl_file)\n",
    "    pkl_file.close()\n",
    "    return data\n",
    "\n",
    "global zpt_data\n",
    "zpt_path = ''\n",
    "zpt_data = ascii.read(zpt_path)\n",
    "\n",
    "def zpt_convert_ab_to_vega(ab, filter):\n",
    "    row = zpt_data['\\ufefffilter' == filter]\n",
    "    conversion = row['mag(Vega/AB)']\n",
    "    return ab - conversion\n",
    "\n",
    "def zpt_convert(ab, conversion):\n",
    "    return ab - conversion\n",
    "\n",
    "def log_mass(ssp):\n",
    "    mass_string = str(ssp.total_initial_live_mass).replace('solMass', '')\n",
    "    log_mass = np.log10(float(mass_string))\n",
    "    return log_mass"
   ],
   "metadata": {
    "collapsed": false,
    "pycharm": {
     "name": "#%%\n"
    }
   }
  },
  {
   "cell_type": "markdown",
   "source": [
    "We then use our from_pickle function to load in our list of SSPs. It's important that they are stored with the naming conventions used in the \"SSP Library\" notebook."
   ],
   "metadata": {
    "collapsed": false,
    "pycharm": {
     "name": "#%% md\n"
    }
   }
  },
  {
   "cell_type": "code",
   "execution_count": null,
   "outputs": [],
   "source": [
    "num_ssps = 1000                 # Number of SSPs to be retrieved\n",
    "dir = ''                        # Set your directory here\n",
    "\n",
    "ssp_list = []                   # List storing SSP objects\n",
    "ages = np.empty(num_ssps)       # Array storing age of each SSP\n",
    "masses = np.empty(num_ssps)     # Array storing mass of each SSP\n",
    "fehs = np.empty(num_ssps)       # Array storing metallicity of each SSP\n",
    "\n",
    "for i in trange(num_ssps):\n",
    "    fn = dir + '/MISTSSP' + str(i+1) + '.pickle'\n",
    "    ssp_list.append(from_pickle(fn))\n",
    "    ages[i] = ssp_list[i].log_age\n",
    "    masses[i] = log_mass(ssp_list[i])\n",
    "    fehs[i] = ssp_list[i].feh"
   ],
   "metadata": {
    "collapsed": false,
    "pycharm": {
     "name": "#%%\n"
    }
   }
  },
  {
   "cell_type": "markdown",
   "source": [
    "After loading in our SSPs, we'll define some more helper functions:"
   ],
   "metadata": {
    "collapsed": false,
    "pycharm": {
     "name": "#%% md\n"
    }
   }
  },
  {
   "cell_type": "code",
   "execution_count": null,
   "outputs": [],
   "source": [
    "def on_click(event):\n",
    "    # get the x and y pixel coords\n",
    "    if event.button is MouseButton.LEFT:\n",
    "        x, y = event.x, event.y\n",
    "        if event.inaxes:\n",
    "            ax = event.inaxes  # the axes instance\n",
    "            #print('Data Coords:', (closest_point_coords(ckdtree, event.xdata, event.ydata)))\n",
    "            #print('Index:', (closest_point_id(ckdtree, event.xdata, event.ydata)))\n",
    "            i = closest_point_id(ckdtree, event.xdata, event.ydata)\n",
    "            cmd(ssp_list[i], i)\n",
    "            plt.disconnect(binding_id)\n",
    "\n",
    "def cmd(ssp, i):\n",
    "    # Generates a CMD based on selection from interactive plot\n",
    "    f275w_mags, f336w_mags, f438w_mags, f555w_mags, f814w_mags = get_mags(ssp)\n",
    "\n",
    "    #uv = f336w_mags - f438w_mags\n",
    "    #nuv = f275w_mags - f438w_mags\n",
    "\n",
    "    x = f555w_mags - f814w_mags\n",
    "    y = f814w_mags\n",
    "\n",
    "    plt.figure('Color-Magnitude Diagram for Cluster {}'.format(i))\n",
    "    plt.scatter(x, y, c=x, cmap='Spectral_r')\n",
    "    #cbar = plt.colorbar(orientation='horizontal')\n",
    "    #cbar.ax.set_ylabel('Color')\n",
    "    plt.title('CMD for Cluster {}'.format(i))\n",
    "    plt.suptitle('Log[Age]: {}'.format(round(ssp.log_age, 3)),\n",
    "                 ha='center', va='top')\n",
    "    plt.suptitle('Log[Mass]: {}'.format(round(log_mass(ssp), 3)),\n",
    "                 ha='center', va='top')\n",
    "    plt.xlabel('Color (F555W - F814W)')\n",
    "    plt.ylabel('Absolute Magnitude (F814W)')\n",
    "    plt.gca().invert_yaxis()\n",
    "    #plt.ylim([4, -12])\n",
    "    #plt.xlim([-1, 4])\n",
    "\n",
    "def closest_point_id(ckdtree, x, y):\n",
    "    # returns index of closest point\n",
    "    return ckdtree.query([x, y])[1]\n",
    "\n",
    "def closest_point_coords(ckdtree, x, y):\n",
    "    # returns coordinates of closest point\n",
    "    return ckdtree.data[closest_point_id(ckdtree, x, y)]\n",
    "    # ckdtree.data is the same as points\n",
    "\n",
    "def val_shower(ckdtree):\n",
    "    # formatter of coordinates displayed on Navigation Bar\n",
    "    return lambda x, y: '[x = {}, y = {}]'.format(*closest_point_coords(ckdtree, x, y))\n",
    "\n",
    "def get_mags_list(ssp_list):\n",
    "    # Returns dictionary containing magnitudes of a given SSP in given filters\n",
    "    n = len(ssp_list)\n",
    "\n",
    "    f275w_mags = np.empty(n)\n",
    "    f336w_mags = np.empty(n)\n",
    "    f438w_mags = np.empty(n)\n",
    "    f555w_mags = np.empty(n)\n",
    "    f814w_mags = np.empty(n)\n",
    "\n",
    "    for i in trange(n, desc='HST'):\n",
    "        f275w_mags[i] = zpt_convert_ab_to_vega(ssp_list[i].isochrone.ssp_mag('WFC3_UVIS_F275W'), 'WFC3_UVIS_F275W')\n",
    "        f336w_mags[i] = zpt_convert_ab_to_vega(ssp_list[i].isochrone.ssp_mag('WFC3_UVIS_F336W'), 'WFC3_UVIS_F336W')\n",
    "        f438w_mags[i] = zpt_convert_ab_to_vega(ssp_list[i].isochrone.ssp_mag('WFC3_UVIS_F438W'), 'WFC3_UVIS_F438W')\n",
    "        f555w_mags[i] = zpt_convert_ab_to_vega(ssp_list[i].isochrone.ssp_mag('WFC3_UVIS_F555W'), 'WFC3_UVIS_F555W')\n",
    "        f814w_mags[i] = zpt_convert_ab_to_vega(ssp_list[i].isochrone.ssp_mag('WFC3_UVIS_F814W'), 'WFC3_UVIS_F814W')\n",
    "\n",
    "    return f275w_mags, f336w_mags, f438w_mags, f555w_mags, f814w_mags\n",
    "\n",
    "def get_mags(ssp):\n",
    "    f275w_mags = zpt_convert_ab_to_vega(ssp.mag_table['WFC3_UVIS_F275W'], 'WFC3_UVIS_F275W')\n",
    "    f336w_mags = zpt_convert_ab_to_vega(ssp.mag_table['WFC3_UVIS_F336W'], 'WFC3_UVIS_F336W')\n",
    "    f438w_mags = zpt_convert_ab_to_vega(ssp.mag_table['WFC3_UVIS_F438W'], 'WFC3_UVIS_F438W')\n",
    "    f555w_mags = zpt_convert_ab_to_vega(ssp.mag_table['WFC3_UVIS_F555W'], 'WFC3_UVIS_F555W')\n",
    "    f814w_mags = zpt_convert_ab_to_vega(ssp.mag_table['WFC3_UVIS_F814W'], 'WFC3_UVIS_F814W')\n",
    "\n",
    "    return f275w_mags, f336w_mags, f438w_mags, f555w_mags, f814w_mags"
   ],
   "metadata": {
    "collapsed": false,
    "pycharm": {
     "name": "#%%\n"
    }
   }
  },
  {
   "cell_type": "markdown",
   "source": [
    "Next, we can use our get_mags function to obtain our desired magnitude lists, and plot them on a color-color diagram:"
   ],
   "metadata": {
    "collapsed": false,
    "pycharm": {
     "name": "#%% md\n"
    }
   }
  },
  {
   "cell_type": "code",
   "execution_count": null,
   "outputs": [],
   "source": [
    "f275w_mags, f336w_mags, f438w_mags, f555w_mags, f814w_mags = get_mags_list(ssp_list)"
   ],
   "metadata": {
    "collapsed": false,
    "pycharm": {
     "name": "#%%\n"
    }
   }
  },
  {
   "cell_type": "code",
   "execution_count": null,
   "outputs": [],
   "source": [
    "u_b = f336w_mags - f438w_mags\n",
    "nuv_b = f275w_mags - f438w_mags\n",
    "v_i = f555w_mags - f814w_mags\n",
    "\n",
    "points = np.column_stack([v_i, u_b])\n",
    "ckdtree = scipy.spatial.cKDTree(points)\n",
    "\n",
    "plt.figure('Color-Color Diagram of All Clusters')\n",
    "plt.scatter(points[:,0], points[:,1], c=ages, s=2**masses*5, cmap='magma') # mass-determined marker size\n",
    "binding_id = plt.connect('motion_notify_event', on_click)\n",
    "plt.title('HST U-B vs V-I')\n",
    "plt.connect('button_press_event', on_click)\n",
    "plt.xlabel('F555W - F814W')\n",
    "plt.ylabel('F336W - F438W')\n",
    "cbar = plt.colorbar()\n",
    "cbar.ax.set_ylabel('log[age]')\n",
    "cbar.ax.invert_yaxis()\n",
    "plt.gca().invert_yaxis()\n",
    "plt.gca().format_coord = val_shower(ckdtree)"
   ],
   "metadata": {
    "collapsed": false,
    "pycharm": {
     "name": "#%%\n"
    }
   }
  },
  {
   "cell_type": "code",
   "execution_count": null,
   "outputs": [],
   "source": [],
   "metadata": {
    "collapsed": false,
    "pycharm": {
     "name": "#%%\n"
    }
   }
  }
 ],
 "metadata": {
  "kernelspec": {
   "name": "conda-env-artpop-py",
   "language": "python",
   "display_name": "Python [conda env:artpop]"
  },
  "language_info": {
   "codemirror_mode": {
    "name": "ipython",
    "version": 2
   },
   "file_extension": ".py",
   "mimetype": "text/x-python",
   "name": "python",
   "nbconvert_exporter": "python",
   "pygments_lexer": "ipython2",
   "version": "2.7.6"
  }
 },
 "nbformat": 4,
 "nbformat_minor": 0
}